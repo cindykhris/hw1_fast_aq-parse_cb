{
 "cells": [
  {
   "cell_type": "code",
   "execution_count": 106,
   "metadata": {},
   "outputs": [],
   "source": [
    "# testing the seqparser packages"
   ]
  },
  {
   "cell_type": "code",
   "execution_count": 107,
   "metadata": {},
   "outputs": [],
   "source": [
    "from seqparser import (\n",
    "        FastaParser,\n",
    "        FastqParser)\n"
   ]
  },
  {
   "attachments": {},
   "cell_type": "markdown",
   "metadata": {},
   "source": [
    "# Testing FastaParser"
   ]
  },
  {
   "cell_type": "code",
   "execution_count": 108,
   "metadata": {},
   "outputs": [],
   "source": [
    "fasta_file = \"/Users/cindybarrios/Desktop/BMI_203/hw1_fast_aq-parse_cb/data/test.fa\"\n",
    "parser_obj = FastaParser(fasta_file)\n",
    "parser_line = [record for record in parser_obj]\n",
    "\n",
    "assert parser_line[0][0] == \"seq0\"\n"
   ]
  },
  {
   "cell_type": "code",
   "execution_count": 109,
   "metadata": {},
   "outputs": [
    {
     "ename": "AssertionError",
     "evalue": "Error: there's something wrong with the FastaParser",
     "output_type": "error",
     "traceback": [
      "\u001b[0;31m---------------------------------------------------------------------------\u001b[0m",
      "\u001b[0;31mAssertionError\u001b[0m                            Traceback (most recent call last)",
      "\u001b[1;32mUntitled-1.ipynb Cell 5\u001b[0m in \u001b[0;36m<cell line: 1>\u001b[0;34m()\u001b[0m\n\u001b[0;32m----> <a href='vscode-notebook-cell:Untitled-1.ipynb?jupyter-notebook#W6sdW50aXRsZWQ%3D?line=0'>1</a>\u001b[0m \u001b[39massert\u001b[39;00m parser_line[\u001b[39m0\u001b[39m][\u001b[39m0\u001b[39m] \u001b[39m==\u001b[39m \u001b[39m\"\u001b[39m\u001b[39mseq1\u001b[39m\u001b[39m\"\u001b[39m, \u001b[39m\"\u001b[39m\u001b[39mError: there\u001b[39m\u001b[39m'\u001b[39m\u001b[39ms something wrong with the FastaParser\u001b[39m\u001b[39m\"\u001b[39m\n",
      "\u001b[0;31mAssertionError\u001b[0m: Error: there's something wrong with the FastaParser"
     ]
    }
   ],
   "source": [
    "assert parser_line[0][0] == \"seq1\", \"Error: there's something wrong with the FastaParser\""
   ]
  },
  {
   "attachments": {},
   "cell_type": "markdown",
   "metadata": {},
   "source": [
    "# Testing  FastqParser"
   ]
  },
  {
   "cell_type": "code",
   "execution_count": 110,
   "metadata": {},
   "outputs": [],
   "source": [
    "\n",
    "\n",
    "fasta_file = \"/Users/cindybarrios/Desktop/BMI_203/hw1_fast_aq-parse_cb/data/test.fq\"\n",
    "parser_obj = FastqParser(fasta_file)\n",
    "parser_line = [record for record in parser_obj]\n"
   ]
  },
  {
   "cell_type": "code",
   "execution_count": 111,
   "metadata": {},
   "outputs": [],
   "source": [
    "assert parser_line[0][0] == \"seq0\""
   ]
  },
  {
   "cell_type": "code",
   "execution_count": 112,
   "metadata": {},
   "outputs": [
    {
     "ename": "AssertionError",
     "evalue": "Error: there's something wrong with the FastqParser",
     "output_type": "error",
     "traceback": [
      "\u001b[0;31m---------------------------------------------------------------------------\u001b[0m",
      "\u001b[0;31mAssertionError\u001b[0m                            Traceback (most recent call last)",
      "\u001b[1;32mUntitled-1.ipynb Cell 9\u001b[0m in \u001b[0;36m<cell line: 1>\u001b[0;34m()\u001b[0m\n\u001b[0;32m----> <a href='vscode-notebook-cell:Untitled-1.ipynb?jupyter-notebook#X14sdW50aXRsZWQ%3D?line=0'>1</a>\u001b[0m \u001b[39massert\u001b[39;00m parser_line[\u001b[39m0\u001b[39m][\u001b[39m0\u001b[39m] \u001b[39m==\u001b[39m \u001b[39m\"\u001b[39m\u001b[39mseq1\u001b[39m\u001b[39m\"\u001b[39m, \u001b[39m\"\u001b[39m\u001b[39mError: there\u001b[39m\u001b[39m'\u001b[39m\u001b[39ms something wrong with the FastqParser\u001b[39m\u001b[39m\"\u001b[39m\n",
      "\u001b[0;31mAssertionError\u001b[0m: Error: there's something wrong with the FastqParser"
     ]
    }
   ],
   "source": [
    "assert parser_line[0][0] == \"seq1\", \"Error: there's something wrong with the FastqParser\""
   ]
  },
  {
   "attachments": {},
   "cell_type": "markdown",
   "metadata": {},
   "source": [
    "# Testing Transcribe"
   ]
  },
  {
   "cell_type": "code",
   "execution_count": 113,
   "metadata": {},
   "outputs": [],
   "source": [
    "from seqparser import (\n",
    "        transcribe,\n",
    "        reverse_transcribe)"
   ]
  },
  {
   "cell_type": "code",
   "execution_count": 114,
   "metadata": {},
   "outputs": [],
   "source": [
    "fasta_file = 'TGTGGTCGTATAGTTATTGTCATAAATTACACAGAATCGCGATTCTCCGCGTCCACCAATCTTAGTGCACCACAGCATCGACCCGATTTATGACGCTGAG'\n",
    "\n",
    "\n",
    "\n",
    "\n",
    "parser_obj = transcribe(fasta_file)\n",
    "parser_line = [record for record in parser_obj]"
   ]
  },
  {
   "cell_type": "code",
   "execution_count": 123,
   "metadata": {},
   "outputs": [],
   "source": [
    "assert parser_line[0:10] == ['C', 'U', 'C', 'A', 'G', 'C', 'G', 'U', 'C', 'A']"
   ]
  },
  {
   "cell_type": "code",
   "execution_count": 124,
   "metadata": {},
   "outputs": [
    {
     "ename": "AssertionError",
     "evalue": "Error: there's something in transcribe",
     "output_type": "error",
     "traceback": [
      "\u001b[0;31m---------------------------------------------------------------------------\u001b[0m",
      "\u001b[0;31mAssertionError\u001b[0m                            Traceback (most recent call last)",
      "\u001b[1;32mUntitled-1.ipynb Cell 14\u001b[0m in \u001b[0;36m<cell line: 1>\u001b[0;34m()\u001b[0m\n\u001b[0;32m----> <a href='vscode-notebook-cell:Untitled-1.ipynb?jupyter-notebook#X34sdW50aXRsZWQ%3D?line=0'>1</a>\u001b[0m \u001b[39massert\u001b[39;00m parser_line[\u001b[39m0\u001b[39m:\u001b[39m10\u001b[39m] \u001b[39m==\u001b[39m [\u001b[39m'\u001b[39m\u001b[39mA\u001b[39m\u001b[39m'\u001b[39m, \u001b[39m'\u001b[39m\u001b[39mC\u001b[39m\u001b[39m'\u001b[39m, \u001b[39m'\u001b[39m\u001b[39mA\u001b[39m\u001b[39m'\u001b[39m, \u001b[39m'\u001b[39m\u001b[39mC\u001b[39m\u001b[39m'\u001b[39m, \u001b[39m'\u001b[39m\u001b[39mC\u001b[39m\u001b[39m'\u001b[39m, \u001b[39m'\u001b[39m\u001b[39mA\u001b[39m\u001b[39m'\u001b[39m, \u001b[39m'\u001b[39m\u001b[39mG\u001b[39m\u001b[39m'\u001b[39m, \u001b[39m'\u001b[39m\u001b[39mC\u001b[39m\u001b[39m'\u001b[39m, \u001b[39m'\u001b[39m\u001b[39mA\u001b[39m\u001b[39m'\u001b[39m, \u001b[39m'\u001b[39m\u001b[39mU\u001b[39m\u001b[39m'\u001b[39m], \u001b[39m\"\u001b[39m\u001b[39mError: there\u001b[39m\u001b[39m'\u001b[39m\u001b[39ms something in transcribe\u001b[39m\u001b[39m\"\u001b[39m\n",
      "\u001b[0;31mAssertionError\u001b[0m: Error: there's something in transcribe"
     ]
    }
   ],
   "source": [
    "assert parser_line[0:10] == ['A', 'C', 'A', 'C', 'C', 'A', 'G', 'C', 'A', 'U'], \"Error: there's something in transcribe\""
   ]
  },
  {
   "attachments": {},
   "cell_type": "markdown",
   "metadata": {},
   "source": [
    "# Testing Reverse Transcribe"
   ]
  },
  {
   "cell_type": "code",
   "execution_count": 116,
   "metadata": {},
   "outputs": [],
   "source": [
    "parser_obj = reverse_transcribe(fasta_file)\n",
    "parser_line = [record for record in parser_obj]"
   ]
  },
  {
   "cell_type": "code",
   "execution_count": 117,
   "metadata": {},
   "outputs": [
    {
     "data": {
      "text/plain": [
       "(True, \"Error: there's something in reverse_transcribe\")"
      ]
     },
     "execution_count": 117,
     "metadata": {},
     "output_type": "execute_result"
    }
   ],
   "source": [
    "parser_line[0:10] == ['C', 'U', 'C', 'A', 'G', 'C', 'G', 'U', 'C', 'A']\n",
    "parser_line[0:10] == ['C', 'U', 'C', 'A', 'G', 'C', 'G', 'U', 'C', 'A'], \"Error: there's something in reverse_transcribe\""
   ]
  }
 ],
 "metadata": {
  "kernelspec": {
   "display_name": "BMI_203",
   "language": "python",
   "name": "bmi_203"
  },
  "language_info": {
   "codemirror_mode": {
    "name": "ipython",
    "version": 3
   },
   "file_extension": ".py",
   "mimetype": "text/x-python",
   "name": "python",
   "nbconvert_exporter": "python",
   "pygments_lexer": "ipython3",
   "version": "3.10.4 (main, Mar 31 2022, 03:38:35) [Clang 12.0.0 ]"
  },
  "orig_nbformat": 4,
  "vscode": {
   "interpreter": {
    "hash": "31f2aee4e71d21fbe5cf8b01ff0e069b9275f58929596ceb00d14d90e3e16cd6"
   }
  }
 },
 "nbformat": 4,
 "nbformat_minor": 2
}
